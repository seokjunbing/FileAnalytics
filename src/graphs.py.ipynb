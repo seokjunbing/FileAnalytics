{
 "cells": [
  {
   "cell_type": "code",
   "execution_count": null,
   "metadata": {},
   "outputs": [],
   "source": [
    "\n",
    "import src.analysis\n",
    "from src.analysis import get_dataframe, state_process\n",
    "\n",
    "DATASET = 'jun'  # 'juan' or 'jun'\n",
    "FILENAME = 'data/test_%s.tsv' % DATASET\n",
    "\n",
    "# we will split our dataset into smaller datasets to generate descriptive statistics\n",
    "BUCKET_BOUNDARIES = [0, 1, 10, 100, 500, 1000, 10000, 100000]\n",
    "BUCKET_LABELS = ['0', '1-10', '11-100', '101-500', '501-1000', '1001-10000', '10001-100000']\n",
    "\n",
    "DATAFRAME_COLUMNS = ['filetype', 'extension', 'blocks', 'birthtime', 'alive_for_periods', 'is_dead']\n",
    "EXTENSION_COL = DATAFRAME_COLUMNS[1]\n",
    "BIRTHTIME_COL = DATAFRAME_COLUMNS[3]\n",
    "ALIVE_FOR_COL = DATAFRAME_COLUMNS[4]\n",
    "IS_DEAD_COL = DATAFRAME_COLUMNS[5]\n",
    "\n",
    "# not included in the list because this one is not present in the original .tsv and the primary purpose of the list is\n",
    "# to name the columns in that .tsv. In other words, these are columns we generate for later\n",
    "# processing\n",
    "BLOCKSIZE_CATEGORY_COL = 'blocksize_category'\n",
    "TOTAL_LIFETIME_COL = 'lifetime'\n",
    "TOTAL_LIFETIME_DAYS_COL = 'lifetime_days'\n",
    "ALIVE_OBSERVED_MINUTES_COL = 'alive_for_minutes'\n",
    "\n",
    "PREPROCESSED_SUFFIX = '_preprocessed.tsv'\n",
    "\n",
    "verbose = False\n",
    "\n",
    "start_time = 1520451300  # 03/07/2018 2:30 PM\n",
    "end_time = 1520550000  # 03/08/2018 06:00 PM\n",
    "\n",
    "preprocessed_fname = FILENAME + PREPROCESSED_SUFFIX\n",
    "\n",
    "# Get the main dataframe\n",
    "df_all = get_dataframe(state_process, preprocessed_fname)\n"
   ]
  },
  {
   "cell_type": "markdown",
   "metadata": {},
   "source": [
    "We define multiple threshold to split our datasets in: the files whose lifetimes were under three years, whose lifetimes were under ten years, and whose lifetimes were 48 years, or files whose birthtimes were timestamp 0 (which there are some)"
   ]
  },
  {
   "cell_type": "code",
   "execution_count": 13,
   "metadata": {},
   "outputs": [],
   "source": [
    "years_twoandahalf = int(365 * 2.5)  # for filtering old files\n",
    "years_three = 365 * 3\n",
    "years_five = 365 * 5\n",
    "years_ten = 365 * 10\n",
    "years_unix_0 = 17600"
   ]
  },
  {
   "cell_type": "code",
   "execution_count": 66,
   "metadata": {},
   "outputs": [
    {
     "data": {
      "text/plain": [
       "array([[<matplotlib.axes._subplots.AxesSubplot object at 0x1138967f0>]],\n      dtype=object)"
      ]
     },
     "execution_count": 66,
     "metadata": {},
     "output_type": "execute_result"
    },
    {
     "data": {
      "image/png": "[encoded data removed]",
      "text/plain": [
       "<Figure size 432x288 with 1 Axes>"
      ]
     },
     "metadata": {},
     "output_type": "display_data"
    }
   ],
   "source": [
    "df_all[df_all['lifetime_days'] < years_five].hist(column='lifetime_days', bins=100)"
   ]
  },
  {
   "cell_type": "code",
   "execution_count": 73,
   "metadata": {},
   "outputs": [
    {
     "data": {
      "text/html": [
       "<div>\n",
       "<style scoped>\n",
       "    .dataframe tbody tr th:only-of-type {\n",
       "        vertical-align: middle;\n",
       "    }\n",
       "\n",
       "    .dataframe tbody tr th {\n",
       "        vertical-align: top;\n",
       "    }\n",
       "\n",
       "    .dataframe thead th {\n",
       "        text-align: right;\n",
       "    }\n",
       "</style>\n",
       "<table border=\"1\" class=\"dataframe\">\n",
       "  <thead>\n",
       "    <tr style=\"text-align: right;\">\n",
       "      <th></th>\n",
       "      <th>num</th>\n",
       "      <th>filetype</th>\n",
       "      <th>extension</th>\n",
       "      <th>blocks</th>\n",
       "      <th>birthtime</th>\n",
       "      <th>alive_for_periods</th>\n",
       "      <th>is_dead</th>\n",
       "      <th>blocksize_category</th>\n",
       "      <th>lifetime</th>\n",
       "      <th>lifetime_days</th>\n",
       "      <th>alive_for_minutes</th>\n",
       "    </tr>\n",
       "  </thead>\n",
       "  <tbody>\n",
       "    <tr>\n",
       "      <th>0</th>\n",
       "      <td>0</td>\n",
       "      <td>/Users/jun/.DS_Store</td>\n",
       "      <td>NaN</td>\n",
       "      <td>56</td>\n",
       "      <td>1.482045e+09</td>\n",
       "      <td>530</td>\n",
       "      <td>False</td>\n",
       "      <td>11-100</td>\n",
       "      <td>38505247.0</td>\n",
       "      <td>445.662581</td>\n",
       "      <td>1440.0</td>\n",
       "    </tr>\n",
       "    <tr>\n",
       "      <th>1</th>\n",
       "      <td>1</td>\n",
       "      <td>/Users/jun/.CFUserTextEncoding</td>\n",
       "      <td>NaN</td>\n",
       "      <td>8</td>\n",
       "      <td>1.482102e+09</td>\n",
       "      <td>530</td>\n",
       "      <td>False</td>\n",
       "      <td>1-10</td>\n",
       "      <td>38447553.0</td>\n",
       "      <td>444.994826</td>\n",
       "      <td>1440.0</td>\n",
       "    </tr>\n",
       "  </tbody>\n",
       "</table>\n",
       "</div>"
      ],
      "text/plain": [
       "<div>\n",
       "<style scoped>\n",
       "    .dataframe tbody tr th:only-of-type {\n",
       "        vertical-align: middle;\n",
       "    }\n",
       "\n",
       "    .dataframe tbody tr th {\n",
       "        vertical-align: top;\n",
       "    }\n",
       "\n",
       "    .dataframe thead th {\n",
       "        text-align: right;\n",
       "    }\n",
       "</style>\n",
       "<table border=\"1\" class=\"dataframe\">\n",
       "  <thead>\n",
       "    <tr style=\"text-align: right;\">\n",
       "      <th></th>\n",
       "      <th>num</th>\n",
       "      <th>filetype</th>\n",
       "      <th>extension</th>\n",
       "      <th>blocks</th>\n",
       "      <th>birthtime</th>\n",
       "      <th>alive_for_periods</th>\n",
       "      <th>is_dead</th>\n",
       "      <th>blocksize_category</th>\n",
       "      <th>lifetime</th>\n",
       "      <th>lifetime_days</th>\n",
       "      <th>alive_for_minutes</th>\n",
       "    </tr>\n",
       "  </thead>\n",
       "  <tbody>\n",
       "    <tr>\n",
       "      <th>0</th>\n",
       "      <td>0</td>\n",
       "      <td>/Users/jun/.DS_Store</td>\n",
       "      <td>NaN</td>\n",
       "      <td>56</td>\n",
       "      <td>1.482045e+09</td>\n",
       "      <td>530</td>\n",
       "      <td>False</td>\n",
       "      <td>11-100</td>\n",
       "      <td>38505247.0</td>\n",
       "      <td>445.662581</td>\n",
       "      <td>1440.0</td>\n",
       "    </tr>\n",
       "    <tr>\n",
       "      <th>1</th>\n",
       "      <td>1</td>\n",
       "      <td>/Users/jun/.CFUserTextEncoding</td>\n",
       "      <td>NaN</td>\n",
       "      <td>8</td>\n",
       "      <td>1.482102e+09</td>\n",
       "      <td>530</td>\n",
       "      <td>False</td>\n",
       "      <td>1-10</td>\n",
       "      <td>38447553.0</td>\n",
       "      <td>444.994826</td>\n",
       "      <td>1440.0</td>\n",
       "    </tr>\n",
       "  </tbody>\n",
       "</table>\n",
       "</div>"
      ]
     },
     "execution_count": 73,
     "metadata": {},
     "output_type": "execute_result"
    }
   ],
   "source": [
    "df_all.head(2)"
   ]
  },
  {
   "cell_type": "markdown",
   "metadata": {},
   "source": [
    "We can see there are a number of files reported by the file system to have birthtime equal or close to 0 (Unix timestamp 0). These greatly skewed our data and investigating their age--as reported by the OS or trying to find out their real age on disk, since they clearly were not created in the 1970s--is beyond the scope of this exploration. We choose to exclude them from our dataset. Notice, however, that there are a significant number of files with birthtime 0."
   ]
  },
  {
   "cell_type": "code",
   "execution_count": 117,
   "metadata": {
    "collapsed": false
   },
   "outputs": [
    {
     "name": "stdout",
     "output_type": "stream",
     "text": [
      "files close to timestamp 0: 449\nfiles over 10 years old: 1844\nfiles over 5 years old: 4994\n"
     ]
    }
   ],
   "source": [
    "print('files close to timestamp 0: %d' % len(df_all[df_all['lifetime_days'] >= (years_unix_0 - 10000)]))\n",
    "print('files over 10 years old: %d' % len(df_all[df_all['lifetime_days'] >= years_ten]))\n",
    "print('files over 5 years old: %d' % len(df_all[df_all['lifetime_days'] >= years_five]))"
   ]
  },
  {
   "cell_type": "markdown",
   "metadata": {},
   "source": [
    "So from now on, we will work with only those files that have ages < 2.5 years, a number we chose based on an approximation of when we installed the operating system on our machines."
   ]
  },
  {
   "cell_type": "code",
   "execution_count": 74,
   "metadata": {},
   "outputs": [
    {
     "data": {
      "text/plain": [
       "771473"
      ]
     },
     "execution_count": 74,
     "metadata": {},
     "output_type": "execute_result"
    }
   ],
   "source": [
    "df_clean = df_all[df_all['lifetime_days'] < years_twoandahalf]\n",
    "len(df_clean)"
   ]
  },
  {
   "cell_type": "code",
   "execution_count": 81,
   "metadata": {
    "collapsed": false
   },
   "outputs": [
    {
     "data": {
      "text/plain": [
       "array([[<matplotlib.axes._subplots.AxesSubplot object at 0x141c40278>]],\n      dtype=object)"
      ]
     },
     "execution_count": 81,
     "metadata": {},
     "output_type": "execute_result"
    },
    {
     "data": {
      "image/png": "[encoded data removed]",
      "text/plain": [
       "<Figure size 432x288 with 1 Axes>"
      ]
     },
     "metadata": {},
     "output_type": "display_data"
    }
   ],
   "source": [
    "df_clean.hist(column=TOTAL_LIFETIME_DAYS_COL, bins=100)"
   ]
  },
  {
   "cell_type": "code",
   "execution_count": 84,
   "metadata": {},
   "outputs": [
    {
     "name": "stdout",
     "output_type": "stream",
     "text": [
      "18522\n16230\n2292\n"
     ]
    }
   ],
   "source": [
    "df_deleted = df_clean[df_clean[IS_DEAD_COL] == True]\n",
    "print(len(df_deleted))\n",
    "df_created_and_deleted = df_deleted[df_deleted[BIRTHTIME_COL] > start_time]\n",
    "print(len(df_created_and_deleted))\n",
    "df_not_created_and_deleted = df_deleted[~df_deleted.index.isin(df_created_and_deleted.index)]\n",
    "print(len(df_not_created_and_deleted))"
   ]
  },
  {
   "cell_type": "markdown",
   "metadata": {},
   "source": [
    ""
   ]
  },
  {
   "cell_type": "markdown",
   "metadata": {},
   "source": [
    "We explore the Jun dataset"
   ]
  },
  {
   "cell_type": "code",
   "execution_count": 86,
   "metadata": {},
   "outputs": [
    {
     "data": {
      "text/plain": [
       "array([[<matplotlib.axes._subplots.AxesSubplot object at 0x13a6fd2e8>]],\n      dtype=object)"
      ]
     },
     "execution_count": 86,
     "metadata": {},
     "output_type": "execute_result"
    },
    {
     "data": {
      "image/png": "[encoded data removed]",
      "text/plain": [
       "<Figure size 432x288 with 1 Axes>"
      ]
     },
     "metadata": {},
     "output_type": "display_data"
    }
   ],
   "source": [
    "df_created_and_deleted.hist(column=ALIVE_OBSERVED_MINUTES_COL, bins=100)"
   ]
  },
  {
   "cell_type": "code",
   "execution_count": 87,
   "metadata": {},
   "outputs": [
    {
     "data": {
      "text/plain": [
       "array([[<matplotlib.axes._subplots.AxesSubplot object at 0x130219780>]],\n      dtype=object)"
      ]
     },
     "execution_count": 87,
     "metadata": {},
     "output_type": "execute_result"
    },
    {
     "data": {
      "image/png": "[encoded data removed]",
      "text/plain": [
       "<Figure size 432x288 with 1 Axes>"
      ]
     },
     "metadata": {},
     "output_type": "display_data"
    }
   ],
   "source": [
    "df_not_created_and_deleted.hist(column=ALIVE_OBSERVED_MINUTES_COL, bins=100)"
   ]
  },
  {
   "cell_type": "markdown",
   "metadata": {},
   "source": [
    "Now, we explore the Juan dataset. To do this, we redefine our previous dataframe variables for convenience."
   ]
  },
  {
   "cell_type": "code",
   "execution_count": 119,
   "metadata": {},
   "outputs": [
    {
     "data": {
      "text/plain": [
       "848505"
      ]
     },
     "execution_count": 119,
     "metadata": {},
     "output_type": "execute_result"
    }
   ],
   "source": [
    "DATASET = 'jun'  # 'juan' or 'jun'\n",
    "FILENAME = 'data/test_%s.tsv' % DATASET\n",
    "preprocessed_fname = FILENAME + PREPROCESSED_SUFFIX\n",
    "\n",
    "# Get the main dataframe\n",
    "df_all = get_dataframe(state_process, preprocessed_fname)\n",
    "len(df_all) # sanity check"
   ]
  },
  {
   "cell_type": "code",
   "execution_count": 96,
   "metadata": {},
   "outputs": [
    {
     "name": "stdout",
     "output_type": "stream",
     "text": [
      "32597\n12798\n19799\n"
     ]
    }
   ],
   "source": [
    "# Define all the dataframes\n",
    "df_clean = df_all[df_all['lifetime_days'] < years_twoandahalf]\n",
    "len(df_clean)\n",
    "\n",
    "df_deleted = df_clean[df_clean[IS_DEAD_COL] == True]\n",
    "print(len(df_deleted))\n",
    "df_created_and_deleted = df_deleted[df_deleted[BIRTHTIME_COL] > start_time]\n",
    "print(len(df_created_and_deleted))\n",
    "df_not_created_and_deleted = df_deleted[~df_deleted.index.isin(df_created_and_deleted.index)]\n",
    "print(len(df_not_created_and_deleted))"
   ]
  },
  {
   "cell_type": "code",
   "execution_count": 97,
   "metadata": {},
   "outputs": [
    {
     "data": {
      "text/plain": [
       "array([[<matplotlib.axes._subplots.AxesSubplot object at 0x13d4ebc50>]],\n      dtype=object)"
      ]
     },
     "execution_count": 97,
     "metadata": {},
     "output_type": "execute_result"
    },
    {
     "data": {
      "image/png": "[encoded data removed]",
      "text/plain": [
       "<Figure size 432x288 with 1 Axes>"
      ]
     },
     "metadata": {},
     "output_type": "display_data"
    }
   ],
   "source": [
    "df_clean.hist(column=TOTAL_LIFETIME_DAYS_COL, bins=100)"
   ]
  },
  {
   "cell_type": "code",
   "execution_count": 98,
   "metadata": {},
   "outputs": [
    {
     "data": {
      "text/plain": [
       "array([[<matplotlib.axes._subplots.AxesSubplot object at 0x13d194668>]],\n      dtype=object)"
      ]
     },
     "execution_count": 98,
     "metadata": {},
     "output_type": "execute_result"
    },
    {
     "data": {
      "image/png": "[encoded data removed]",
      "text/plain": [
       "<Figure size 432x288 with 1 Axes>"
      ]
     },
     "metadata": {},
     "output_type": "display_data"
    }
   ],
   "source": [
    "df_not_created_and_deleted.hist(column=TOTAL_LIFETIME_DAYS_COL, bins=100)"
   ]
  },
  {
   "cell_type": "code",
   "execution_count": null,
   "metadata": {},
   "outputs": [],
   "source": [
    "df_created_and_deleted.hist(column=ALIVE_OBSERVED_MINUTES_COL, bins=100)\n",
    "\n"
   ]
  },
  {
   "cell_type": "code",
   "execution_count": null,
   "metadata": {},
   "outputs": [],
   "source": []
  }
 ],
 "metadata": {
  "kernelspec": {
   "display_name": "Python 2",
   "language": "python",
   "name": "python2"
  },
  "language_info": {
   "codemirror_mode": {
    "name": "ipython",
    "version": 2
   },
   "file_extension": ".py",
   "mimetype": "text/x-python",
   "name": "python",
   "nbconvert_exporter": "python",
   "pygments_lexer": "ipython2",
   "version": "2.7.6"
  }
 },
 "nbformat": 4,
 "nbformat_minor": 0
}
